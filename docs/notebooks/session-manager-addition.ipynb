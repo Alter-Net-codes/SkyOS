{
 "cells": [
  {
   "cell_type": "markdown",
   "metadata": {},
   "source": [
    "# Adding the session manager\n",
    "The last step. I have no idea when I am gonna add this.\n",
    "Maybe this year. I dont know I lost interest on this OS really.\n",
    "I will try to add it before, or during this summer.\n",
    "Just wait for 2.7."
   ]
  }
 ],
 "metadata": {
  "language_info": {
   "name": "python"
  }
 },
 "nbformat": 4,
 "nbformat_minor": 2
}
