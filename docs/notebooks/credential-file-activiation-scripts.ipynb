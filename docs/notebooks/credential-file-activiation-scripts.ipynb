{
 "cells": [
  {
   "cell_type": "markdown",
   "metadata": {},
   "source": [
    "# Credential File Activiation Scripts\n",
    "SkyOS recently got a devtool,  Credential File Path control or CFP control for short\n",
    "\n",
    "The devtool is located in the setup script, and is meant for changing the names of the credential files.\n",
    "\n",
    "If you are a dev and planning to use this, read the rest of this doc.\n",
    "\n",
    "After use, you will get an error saying the credantial files could not be accessed by the kernel.\n",
    "\n",
    "You will need to go into the kernel and find the following piece of code:"
   ]
  },
  {
   "cell_type": "code",
   "execution_count": null,
   "metadata": {},
   "outputs": [],
   "source": [
    "# After setup, check again for username and password\n",
    "with open(\"username.txt\", \"r\") as user_file: # if you used the CFP control devtool in the setup script then change this .txt files name accordingly.\n",
    "    stored_username = user_file.read().strip()\n",
    "\n",
    "with open(\"password.txt\", \"r\") as password_file:\n",
    "    stored_password = password_file.read().strip() # if you used the CFP control devtool in the setup script then change this .txt files name accordingly."
   ]
  },
  {
   "cell_type": "markdown",
   "metadata": {},
   "source": [
    "Follow the instructions, and you will soon be finished\n",
    "\n",
    "Try to restart the kernel.\n",
    "\n",
    "It should work now, if double check your changes and the names of the credential files.\n",
    "\n",
    "If it still doesent work open a issue under the tag \"bug\""
   ]
  }
 ],
 "metadata": {
  "language_info": {
   "name": "python"
  }
 },
 "nbformat": 4,
 "nbformat_minor": 2
}
